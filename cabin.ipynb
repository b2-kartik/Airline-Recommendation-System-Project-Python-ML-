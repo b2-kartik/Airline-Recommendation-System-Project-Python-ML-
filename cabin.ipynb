{
 "cells": [
  {
   "cell_type": "markdown",
   "id": "86e394f1-1d85-4afe-98d4-e0cc1ec7e84b",
   "metadata": {},
   "source": [
    "### Import Required Packages"
   ]
  },
  {
   "cell_type": "code",
   "execution_count": 2,
   "id": "3a9dd09d-3d12-4fd4-9123-71abf109c0a1",
   "metadata": {},
   "outputs": [
    {
     "name": "stderr",
     "output_type": "stream",
     "text": [
      "/usr/local/lib/python3.10/dist-packages/matplotlib/projections/__init__.py:63: UserWarning: Unable to import Axes3D. This may be due to multiple versions of Matplotlib being installed (e.g. as a system package and as a pip package). As a result, the 3D projection is not available.\n",
      "  warnings.warn(\"Unable to import Axes3D. This may be due to multiple versions of \"\n"
     ]
    }
   ],
   "source": [
    "import pandas as pd\n",
    "import numpy as np\n",
    "import matplotlib.pyplot as plt\n",
    "import seaborn as sns"
   ]
  },
  {
   "cell_type": "markdown",
   "id": "34b282bb-274d-48da-b75a-2c04b27941ac",
   "metadata": {},
   "source": [
    "### Load the Data"
   ]
  },
  {
   "cell_type": "code",
   "execution_count": 3,
   "id": "b7fe0692-cb8e-4253-bef3-3b145de760a4",
   "metadata": {},
   "outputs": [
    {
     "data": {
      "text/html": [
       "<div>\n",
       "<style scoped>\n",
       "    .dataframe tbody tr th:only-of-type {\n",
       "        vertical-align: middle;\n",
       "    }\n",
       "\n",
       "    .dataframe tbody tr th {\n",
       "        vertical-align: top;\n",
       "    }\n",
       "\n",
       "    .dataframe thead th {\n",
       "        text-align: right;\n",
       "    }\n",
       "</style>\n",
       "<table border=\"1\" class=\"dataframe\">\n",
       "  <thead>\n",
       "    <tr style=\"text-align: right;\">\n",
       "      <th></th>\n",
       "      <th>airline</th>\n",
       "      <th>overall</th>\n",
       "      <th>traveller_type</th>\n",
       "      <th>cabin</th>\n",
       "      <th>seat_comfort</th>\n",
       "      <th>cabin_service</th>\n",
       "      <th>food_bev</th>\n",
       "      <th>entertainment</th>\n",
       "      <th>ground_service</th>\n",
       "      <th>value_for_money</th>\n",
       "      <th>recommended</th>\n",
       "      <th>Customer_reviews_nlp</th>\n",
       "    </tr>\n",
       "  </thead>\n",
       "  <tbody>\n",
       "    <tr>\n",
       "      <th>0</th>\n",
       "      <td>71</td>\n",
       "      <td>7</td>\n",
       "      <td>Business</td>\n",
       "      <td>Economy Class</td>\n",
       "      <td>4.0</td>\n",
       "      <td>5.0</td>\n",
       "      <td>4.0</td>\n",
       "      <td>4</td>\n",
       "      <td>2</td>\n",
       "      <td>4</td>\n",
       "      <td>1</td>\n",
       "      <td>1</td>\n",
       "    </tr>\n",
       "    <tr>\n",
       "      <th>1</th>\n",
       "      <td>71</td>\n",
       "      <td>2</td>\n",
       "      <td>Family Leisure</td>\n",
       "      <td>Economy Class</td>\n",
       "      <td>4.0</td>\n",
       "      <td>1.0</td>\n",
       "      <td>1.0</td>\n",
       "      <td>1</td>\n",
       "      <td>1</td>\n",
       "      <td>1</td>\n",
       "      <td>0</td>\n",
       "      <td>1</td>\n",
       "    </tr>\n",
       "    <tr>\n",
       "      <th>2</th>\n",
       "      <td>71</td>\n",
       "      <td>3</td>\n",
       "      <td>Business</td>\n",
       "      <td>Economy Class</td>\n",
       "      <td>1.0</td>\n",
       "      <td>4.0</td>\n",
       "      <td>1.0</td>\n",
       "      <td>3</td>\n",
       "      <td>1</td>\n",
       "      <td>2</td>\n",
       "      <td>0</td>\n",
       "      <td>1</td>\n",
       "    </tr>\n",
       "    <tr>\n",
       "      <th>3</th>\n",
       "      <td>71</td>\n",
       "      <td>10</td>\n",
       "      <td>Solo Leisure</td>\n",
       "      <td>Economy Class</td>\n",
       "      <td>4.0</td>\n",
       "      <td>5.0</td>\n",
       "      <td>5.0</td>\n",
       "      <td>5</td>\n",
       "      <td>5</td>\n",
       "      <td>5</td>\n",
       "      <td>1</td>\n",
       "      <td>1</td>\n",
       "    </tr>\n",
       "    <tr>\n",
       "      <th>4</th>\n",
       "      <td>71</td>\n",
       "      <td>1</td>\n",
       "      <td>Solo Leisure</td>\n",
       "      <td>Economy Class</td>\n",
       "      <td>1.0</td>\n",
       "      <td>1.0</td>\n",
       "      <td>1.0</td>\n",
       "      <td>1</td>\n",
       "      <td>1</td>\n",
       "      <td>1</td>\n",
       "      <td>0</td>\n",
       "      <td>1</td>\n",
       "    </tr>\n",
       "    <tr>\n",
       "      <th>...</th>\n",
       "      <td>...</td>\n",
       "      <td>...</td>\n",
       "      <td>...</td>\n",
       "      <td>...</td>\n",
       "      <td>...</td>\n",
       "      <td>...</td>\n",
       "      <td>...</td>\n",
       "      <td>...</td>\n",
       "      <td>...</td>\n",
       "      <td>...</td>\n",
       "      <td>...</td>\n",
       "      <td>...</td>\n",
       "    </tr>\n",
       "    <tr>\n",
       "      <th>65942</th>\n",
       "      <td>72</td>\n",
       "      <td>5</td>\n",
       "      <td>Couple Leisure</td>\n",
       "      <td>NaN</td>\n",
       "      <td>NaN</td>\n",
       "      <td>NaN</td>\n",
       "      <td>NaN</td>\n",
       "      <td>1</td>\n",
       "      <td>5</td>\n",
       "      <td>2</td>\n",
       "      <td>0</td>\n",
       "      <td>1</td>\n",
       "    </tr>\n",
       "    <tr>\n",
       "      <th>65943</th>\n",
       "      <td>72</td>\n",
       "      <td>5</td>\n",
       "      <td>Couple Leisure</td>\n",
       "      <td>NaN</td>\n",
       "      <td>NaN</td>\n",
       "      <td>NaN</td>\n",
       "      <td>NaN</td>\n",
       "      <td>3</td>\n",
       "      <td>2</td>\n",
       "      <td>2</td>\n",
       "      <td>0</td>\n",
       "      <td>1</td>\n",
       "    </tr>\n",
       "    <tr>\n",
       "      <th>65944</th>\n",
       "      <td>72</td>\n",
       "      <td>4</td>\n",
       "      <td>Solo Leisure</td>\n",
       "      <td>NaN</td>\n",
       "      <td>NaN</td>\n",
       "      <td>NaN</td>\n",
       "      <td>NaN</td>\n",
       "      <td>2</td>\n",
       "      <td>3</td>\n",
       "      <td>3</td>\n",
       "      <td>0</td>\n",
       "      <td>1</td>\n",
       "    </tr>\n",
       "    <tr>\n",
       "      <th>65945</th>\n",
       "      <td>72</td>\n",
       "      <td>7</td>\n",
       "      <td>Couple Leisure</td>\n",
       "      <td>NaN</td>\n",
       "      <td>NaN</td>\n",
       "      <td>NaN</td>\n",
       "      <td>NaN</td>\n",
       "      <td>2</td>\n",
       "      <td>4</td>\n",
       "      <td>3</td>\n",
       "      <td>0</td>\n",
       "      <td>0</td>\n",
       "    </tr>\n",
       "    <tr>\n",
       "      <th>65946</th>\n",
       "      <td>72</td>\n",
       "      <td>4</td>\n",
       "      <td>Solo Leisure</td>\n",
       "      <td>NaN</td>\n",
       "      <td>NaN</td>\n",
       "      <td>NaN</td>\n",
       "      <td>NaN</td>\n",
       "      <td>4</td>\n",
       "      <td>1</td>\n",
       "      <td>2</td>\n",
       "      <td>0</td>\n",
       "      <td>1</td>\n",
       "    </tr>\n",
       "  </tbody>\n",
       "</table>\n",
       "<p>65947 rows × 12 columns</p>\n",
       "</div>"
      ],
      "text/plain": [
       "       airline  overall  traveller_type          cabin  seat_comfort  \\\n",
       "0           71        7        Business  Economy Class           4.0   \n",
       "1           71        2  Family Leisure  Economy Class           4.0   \n",
       "2           71        3        Business  Economy Class           1.0   \n",
       "3           71       10    Solo Leisure  Economy Class           4.0   \n",
       "4           71        1    Solo Leisure  Economy Class           1.0   \n",
       "...        ...      ...             ...            ...           ...   \n",
       "65942       72        5  Couple Leisure            NaN           NaN   \n",
       "65943       72        5  Couple Leisure            NaN           NaN   \n",
       "65944       72        4    Solo Leisure            NaN           NaN   \n",
       "65945       72        7  Couple Leisure            NaN           NaN   \n",
       "65946       72        4    Solo Leisure            NaN           NaN   \n",
       "\n",
       "       cabin_service  food_bev  entertainment  ground_service  \\\n",
       "0                5.0       4.0              4               2   \n",
       "1                1.0       1.0              1               1   \n",
       "2                4.0       1.0              3               1   \n",
       "3                5.0       5.0              5               5   \n",
       "4                1.0       1.0              1               1   \n",
       "...              ...       ...            ...             ...   \n",
       "65942            NaN       NaN              1               5   \n",
       "65943            NaN       NaN              3               2   \n",
       "65944            NaN       NaN              2               3   \n",
       "65945            NaN       NaN              2               4   \n",
       "65946            NaN       NaN              4               1   \n",
       "\n",
       "       value_for_money  recommended  Customer_reviews_nlp  \n",
       "0                    4            1                     1  \n",
       "1                    1            0                     1  \n",
       "2                    2            0                     1  \n",
       "3                    5            1                     1  \n",
       "4                    1            0                     1  \n",
       "...                ...          ...                   ...  \n",
       "65942                2            0                     1  \n",
       "65943                2            0                     1  \n",
       "65944                3            0                     1  \n",
       "65945                3            0                     0  \n",
       "65946                2            0                     1  \n",
       "\n",
       "[65947 rows x 12 columns]"
      ]
     },
     "execution_count": 3,
     "metadata": {},
     "output_type": "execute_result"
    }
   ],
   "source": [
    "df = pd.read_csv('./Pro1.csv')\n",
    "df"
   ]
  },
  {
   "cell_type": "code",
   "execution_count": 4,
   "id": "0f204c4f-28e8-472b-a0ba-56e3979789c6",
   "metadata": {},
   "outputs": [
    {
     "data": {
      "text/plain": [
       "187"
      ]
     },
     "execution_count": 4,
     "metadata": {},
     "output_type": "execute_result"
    }
   ],
   "source": [
    "df['cabin'].isna().sum()"
   ]
  },
  {
   "cell_type": "code",
   "execution_count": 6,
   "id": "c86e6a7f-8fce-4d31-b060-8d95ccf6b283",
   "metadata": {},
   "outputs": [
    {
     "data": {
      "text/plain": [
       "Economy Class      48583\n",
       "Business Class     11325\n",
       "Premium Economy     3335\n",
       "First Class         2517\n",
       "Name: cabin, dtype: int64"
      ]
     },
     "execution_count": 6,
     "metadata": {},
     "output_type": "execute_result"
    }
   ],
   "source": [
    "df['cabin'].value_counts()"
   ]
  },
  {
   "cell_type": "code",
   "execution_count": 15,
   "id": "efeb55d9-bd2d-4f44-963e-e991542c639f",
   "metadata": {},
   "outputs": [],
   "source": [
    "# Generate mask of 187 random positions where NaN values occur\n",
    "mask = np.random.choice(df.index[df['cabin'].isna()], size=47, replace=True)\n",
    "\n",
    "# filling a constat value\n",
    "fill_value_1 = \"Economy Class\"\n",
    "df.loc[mask, 'cabin'] = fill_value_1"
   ]
  },
  {
   "cell_type": "code",
   "execution_count": 8,
   "id": "ca557332-7888-4e72-a341-b7ceaea4dfac",
   "metadata": {},
   "outputs": [
    {
     "data": {
      "text/plain": [
       "147"
      ]
     },
     "execution_count": 8,
     "metadata": {},
     "output_type": "execute_result"
    }
   ],
   "source": [
    "df['cabin'].isna().sum()"
   ]
  },
  {
   "cell_type": "code",
   "execution_count": 17,
   "id": "932f903c-18e5-4ba8-8242-fe9162d91036",
   "metadata": {},
   "outputs": [],
   "source": [
    "# Generate mask of 187 random positions where NaN values occur\n",
    "mask = np.random.choice(df.index[df['cabin'].isna()], size=47, replace=True)\n",
    "\n",
    "# filling a constat value\n",
    "fill_value_2 = \"Business Class\"\n",
    "df.loc[mask, 'cabin'] = fill_value_2"
   ]
  },
  {
   "cell_type": "code",
   "execution_count": 10,
   "id": "7f608cce-d973-41ed-a551-59e860aeba4c",
   "metadata": {},
   "outputs": [
    {
     "data": {
      "text/plain": [
       "109"
      ]
     },
     "execution_count": 10,
     "metadata": {},
     "output_type": "execute_result"
    }
   ],
   "source": [
    "df['cabin'].isna().sum()"
   ]
  },
  {
   "cell_type": "code",
   "execution_count": 11,
   "id": "2099304e-5b36-475b-9727-e49e0994c766",
   "metadata": {},
   "outputs": [],
   "source": [
    "# Generate mask of 187 random positions where NaN values occur\n",
    "mask = np.random.choice(df.index[df['cabin'].isna()], size=47, replace=True)\n",
    "\n",
    "# filling a constat value\n",
    "fill_value_3 = \"Premium Economy\"\n",
    "df.loc[mask, 'cabin'] = fill_value_3"
   ]
  },
  {
   "cell_type": "code",
   "execution_count": 12,
   "id": "bfd8ffd5-dc3d-4103-8dde-7ed0db9016ca",
   "metadata": {},
   "outputs": [
    {
     "data": {
      "text/plain": [
       "74"
      ]
     },
     "execution_count": 12,
     "metadata": {},
     "output_type": "execute_result"
    }
   ],
   "source": [
    "df['cabin'].isna().sum()"
   ]
  },
  {
   "cell_type": "code",
   "execution_count": 13,
   "id": "12e975b6-4bc4-496c-8e62-56662eed3ab3",
   "metadata": {},
   "outputs": [],
   "source": [
    "# Generate mask of 187 random positions where NaN values occur\n",
    "mask = np.random.choice(df.index[df['cabin'].isna()], size=47, replace=True)\n",
    "\n",
    "# filling a constat value\n",
    "fill_value_4 = \"First Class\"\n",
    "df.loc[mask, 'cabin'] = fill_value_4"
   ]
  },
  {
   "cell_type": "code",
   "execution_count": 18,
   "id": "015d3fdf-2ba4-4547-857d-77fdf115b6c7",
   "metadata": {},
   "outputs": [
    {
     "data": {
      "text/plain": [
       "0"
      ]
     },
     "execution_count": 18,
     "metadata": {},
     "output_type": "execute_result"
    }
   ],
   "source": [
    "df['cabin'].isna().sum() "
   ]
  },
  {
   "cell_type": "code",
   "execution_count": 19,
   "id": "d943f1d1-10ef-4f22-ad5b-2b322cbccc7b",
   "metadata": {},
   "outputs": [],
   "source": [
    "df.to_csv('Pro2.csv', index=False)"
   ]
  },
  {
   "cell_type": "code",
   "execution_count": null,
   "id": "3b976d42-3164-42e9-8ff7-8de51498fd29",
   "metadata": {},
   "outputs": [],
   "source": []
  }
 ],
 "metadata": {
  "kernelspec": {
   "display_name": "Python 3 (ipykernel)",
   "language": "python",
   "name": "python3"
  },
  "language_info": {
   "codemirror_mode": {
    "name": "ipython",
    "version": 3
   },
   "file_extension": ".py",
   "mimetype": "text/x-python",
   "name": "python",
   "nbconvert_exporter": "python",
   "pygments_lexer": "ipython3",
   "version": "3.10.12"
  }
 },
 "nbformat": 4,
 "nbformat_minor": 5
}
