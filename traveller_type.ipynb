{
 "cells": [
  {
   "cell_type": "markdown",
   "id": "f8d340d3-ed96-4180-9994-cd78debb2ef1",
   "metadata": {},
   "source": [
    "### Import Required Packages"
   ]
  },
  {
   "cell_type": "code",
   "execution_count": 1,
   "id": "f9b6334b-19d5-4491-bec0-d2c0deec627f",
   "metadata": {},
   "outputs": [
    {
     "name": "stderr",
     "output_type": "stream",
     "text": [
      "/usr/local/lib/python3.10/dist-packages/matplotlib/projections/__init__.py:63: UserWarning: Unable to import Axes3D. This may be due to multiple versions of Matplotlib being installed (e.g. as a system package and as a pip package). As a result, the 3D projection is not available.\n",
      "  warnings.warn(\"Unable to import Axes3D. This may be due to multiple versions of \"\n"
     ]
    }
   ],
   "source": [
    "import pandas as pd\n",
    "import numpy as np\n",
    "import matplotlib.pyplot as plt\n",
    "import seaborn as sns"
   ]
  },
  {
   "cell_type": "markdown",
   "id": "b1983aa0-41dc-4320-ae0b-2203a561b0bb",
   "metadata": {},
   "source": [
    "### Load the Data"
   ]
  },
  {
   "cell_type": "code",
   "execution_count": 5,
   "id": "e504aee5-c649-4ec3-81b4-7792a777f78e",
   "metadata": {
    "scrolled": true
   },
   "outputs": [
    {
     "data": {
      "text/html": [
       "<div>\n",
       "<style scoped>\n",
       "    .dataframe tbody tr th:only-of-type {\n",
       "        vertical-align: middle;\n",
       "    }\n",
       "\n",
       "    .dataframe tbody tr th {\n",
       "        vertical-align: top;\n",
       "    }\n",
       "\n",
       "    .dataframe thead th {\n",
       "        text-align: right;\n",
       "    }\n",
       "</style>\n",
       "<table border=\"1\" class=\"dataframe\">\n",
       "  <thead>\n",
       "    <tr style=\"text-align: right;\">\n",
       "      <th></th>\n",
       "      <th>airline</th>\n",
       "      <th>overall</th>\n",
       "      <th>traveller_type</th>\n",
       "      <th>cabin</th>\n",
       "      <th>seat_comfort</th>\n",
       "      <th>cabin_service</th>\n",
       "      <th>food_bev</th>\n",
       "      <th>entertainment</th>\n",
       "      <th>ground_service</th>\n",
       "      <th>value_for_money</th>\n",
       "      <th>recommended</th>\n",
       "      <th>Customer_reviews_nlp</th>\n",
       "    </tr>\n",
       "  </thead>\n",
       "  <tbody>\n",
       "    <tr>\n",
       "      <th>0</th>\n",
       "      <td>71</td>\n",
       "      <td>7</td>\n",
       "      <td>Business</td>\n",
       "      <td>Economy Class</td>\n",
       "      <td>4.0</td>\n",
       "      <td>5.0</td>\n",
       "      <td>4.0</td>\n",
       "      <td>4</td>\n",
       "      <td>2</td>\n",
       "      <td>4</td>\n",
       "      <td>1</td>\n",
       "      <td>1</td>\n",
       "    </tr>\n",
       "    <tr>\n",
       "      <th>1</th>\n",
       "      <td>71</td>\n",
       "      <td>2</td>\n",
       "      <td>Family Leisure</td>\n",
       "      <td>Economy Class</td>\n",
       "      <td>4.0</td>\n",
       "      <td>1.0</td>\n",
       "      <td>1.0</td>\n",
       "      <td>1</td>\n",
       "      <td>1</td>\n",
       "      <td>1</td>\n",
       "      <td>0</td>\n",
       "      <td>1</td>\n",
       "    </tr>\n",
       "    <tr>\n",
       "      <th>2</th>\n",
       "      <td>71</td>\n",
       "      <td>3</td>\n",
       "      <td>Business</td>\n",
       "      <td>Economy Class</td>\n",
       "      <td>1.0</td>\n",
       "      <td>4.0</td>\n",
       "      <td>1.0</td>\n",
       "      <td>3</td>\n",
       "      <td>1</td>\n",
       "      <td>2</td>\n",
       "      <td>0</td>\n",
       "      <td>1</td>\n",
       "    </tr>\n",
       "    <tr>\n",
       "      <th>3</th>\n",
       "      <td>71</td>\n",
       "      <td>10</td>\n",
       "      <td>Solo Leisure</td>\n",
       "      <td>Economy Class</td>\n",
       "      <td>4.0</td>\n",
       "      <td>5.0</td>\n",
       "      <td>5.0</td>\n",
       "      <td>5</td>\n",
       "      <td>5</td>\n",
       "      <td>5</td>\n",
       "      <td>1</td>\n",
       "      <td>1</td>\n",
       "    </tr>\n",
       "    <tr>\n",
       "      <th>4</th>\n",
       "      <td>71</td>\n",
       "      <td>1</td>\n",
       "      <td>Solo Leisure</td>\n",
       "      <td>Economy Class</td>\n",
       "      <td>1.0</td>\n",
       "      <td>1.0</td>\n",
       "      <td>1.0</td>\n",
       "      <td>1</td>\n",
       "      <td>1</td>\n",
       "      <td>1</td>\n",
       "      <td>0</td>\n",
       "      <td>1</td>\n",
       "    </tr>\n",
       "    <tr>\n",
       "      <th>...</th>\n",
       "      <td>...</td>\n",
       "      <td>...</td>\n",
       "      <td>...</td>\n",
       "      <td>...</td>\n",
       "      <td>...</td>\n",
       "      <td>...</td>\n",
       "      <td>...</td>\n",
       "      <td>...</td>\n",
       "      <td>...</td>\n",
       "      <td>...</td>\n",
       "      <td>...</td>\n",
       "      <td>...</td>\n",
       "    </tr>\n",
       "    <tr>\n",
       "      <th>65942</th>\n",
       "      <td>72</td>\n",
       "      <td>5</td>\n",
       "      <td>Couple Leisure</td>\n",
       "      <td>NaN</td>\n",
       "      <td>NaN</td>\n",
       "      <td>NaN</td>\n",
       "      <td>NaN</td>\n",
       "      <td>1</td>\n",
       "      <td>5</td>\n",
       "      <td>2</td>\n",
       "      <td>0</td>\n",
       "      <td>1</td>\n",
       "    </tr>\n",
       "    <tr>\n",
       "      <th>65943</th>\n",
       "      <td>72</td>\n",
       "      <td>5</td>\n",
       "      <td>Couple Leisure</td>\n",
       "      <td>NaN</td>\n",
       "      <td>NaN</td>\n",
       "      <td>NaN</td>\n",
       "      <td>NaN</td>\n",
       "      <td>3</td>\n",
       "      <td>2</td>\n",
       "      <td>2</td>\n",
       "      <td>0</td>\n",
       "      <td>1</td>\n",
       "    </tr>\n",
       "    <tr>\n",
       "      <th>65944</th>\n",
       "      <td>72</td>\n",
       "      <td>4</td>\n",
       "      <td>Solo Leisure</td>\n",
       "      <td>NaN</td>\n",
       "      <td>NaN</td>\n",
       "      <td>NaN</td>\n",
       "      <td>NaN</td>\n",
       "      <td>2</td>\n",
       "      <td>3</td>\n",
       "      <td>3</td>\n",
       "      <td>0</td>\n",
       "      <td>1</td>\n",
       "    </tr>\n",
       "    <tr>\n",
       "      <th>65945</th>\n",
       "      <td>72</td>\n",
       "      <td>7</td>\n",
       "      <td>Couple Leisure</td>\n",
       "      <td>NaN</td>\n",
       "      <td>NaN</td>\n",
       "      <td>NaN</td>\n",
       "      <td>NaN</td>\n",
       "      <td>2</td>\n",
       "      <td>4</td>\n",
       "      <td>3</td>\n",
       "      <td>0</td>\n",
       "      <td>0</td>\n",
       "    </tr>\n",
       "    <tr>\n",
       "      <th>65946</th>\n",
       "      <td>72</td>\n",
       "      <td>4</td>\n",
       "      <td>Solo Leisure</td>\n",
       "      <td>NaN</td>\n",
       "      <td>NaN</td>\n",
       "      <td>NaN</td>\n",
       "      <td>NaN</td>\n",
       "      <td>4</td>\n",
       "      <td>1</td>\n",
       "      <td>2</td>\n",
       "      <td>0</td>\n",
       "      <td>1</td>\n",
       "    </tr>\n",
       "  </tbody>\n",
       "</table>\n",
       "<p>65947 rows × 12 columns</p>\n",
       "</div>"
      ],
      "text/plain": [
       "       airline  overall  traveller_type          cabin  seat_comfort  \\\n",
       "0           71        7        Business  Economy Class           4.0   \n",
       "1           71        2  Family Leisure  Economy Class           4.0   \n",
       "2           71        3        Business  Economy Class           1.0   \n",
       "3           71       10    Solo Leisure  Economy Class           4.0   \n",
       "4           71        1    Solo Leisure  Economy Class           1.0   \n",
       "...        ...      ...             ...            ...           ...   \n",
       "65942       72        5  Couple Leisure            NaN           NaN   \n",
       "65943       72        5  Couple Leisure            NaN           NaN   \n",
       "65944       72        4    Solo Leisure            NaN           NaN   \n",
       "65945       72        7  Couple Leisure            NaN           NaN   \n",
       "65946       72        4    Solo Leisure            NaN           NaN   \n",
       "\n",
       "       cabin_service  food_bev  entertainment  ground_service  \\\n",
       "0                5.0       4.0              4               2   \n",
       "1                1.0       1.0              1               1   \n",
       "2                4.0       1.0              3               1   \n",
       "3                5.0       5.0              5               5   \n",
       "4                1.0       1.0              1               1   \n",
       "...              ...       ...            ...             ...   \n",
       "65942            NaN       NaN              1               5   \n",
       "65943            NaN       NaN              3               2   \n",
       "65944            NaN       NaN              2               3   \n",
       "65945            NaN       NaN              2               4   \n",
       "65946            NaN       NaN              4               1   \n",
       "\n",
       "       value_for_money  recommended  Customer_reviews_nlp  \n",
       "0                    4            1                     1  \n",
       "1                    1            0                     1  \n",
       "2                    2            0                     1  \n",
       "3                    5            1                     1  \n",
       "4                    1            0                     1  \n",
       "...                ...          ...                   ...  \n",
       "65942                2            0                     1  \n",
       "65943                2            0                     1  \n",
       "65944                3            0                     1  \n",
       "65945                3            0                     0  \n",
       "65946                2            0                     1  \n",
       "\n",
       "[65947 rows x 12 columns]"
      ]
     },
     "execution_count": 5,
     "metadata": {},
     "output_type": "execute_result"
    }
   ],
   "source": [
    "df = pd.read_csv('./P6.csv')\n",
    "df"
   ]
  },
  {
   "cell_type": "code",
   "execution_count": 9,
   "id": "cb8dff0c-cdaa-46e9-a07b-e0639fe42cd9",
   "metadata": {},
   "outputs": [
    {
     "data": {
      "text/plain": [
       "103"
      ]
     },
     "execution_count": 9,
     "metadata": {},
     "output_type": "execute_result"
    }
   ],
   "source": [
    "df['traveller_type'].isna().sum()"
   ]
  },
  {
   "cell_type": "code",
   "execution_count": 10,
   "id": "7713a352-fa20-4377-b173-f60d3d43ce4c",
   "metadata": {},
   "outputs": [
    {
     "data": {
      "text/plain": [
       "Solo Leisure      24044\n",
       "Couple Leisure    17277\n",
       "Family Leisure    12980\n",
       "Business          11543\n",
       "Name: traveller_type, dtype: int64"
      ]
     },
     "execution_count": 10,
     "metadata": {},
     "output_type": "execute_result"
    }
   ],
   "source": [
    "df['traveller_type'].value_counts()"
   ]
  },
  {
   "cell_type": "code",
   "execution_count": 24,
   "id": "bdbfce05-3c6d-41e4-9bb4-704de23d5fef",
   "metadata": {},
   "outputs": [],
   "source": [
    "# Generate mask of 103 random positions where NaN values occur\n",
    "mask = np.random.choice(df.index[df['traveller_type'].isna()], size=26, replace=True)\n",
    "\n",
    "# filling a constant value\n",
    "fill_value = \"Solo Leisure\"\n",
    "df.loc[mask, 'traveller_type'] = fill_value"
   ]
  },
  {
   "cell_type": "code",
   "execution_count": 12,
   "id": "5dabfb48-d749-4630-8a86-3d57d45eb6ea",
   "metadata": {},
   "outputs": [
    {
     "data": {
      "text/plain": [
       "79"
      ]
     },
     "execution_count": 12,
     "metadata": {},
     "output_type": "execute_result"
    }
   ],
   "source": [
    "df['traveller_type'].isna().sum()"
   ]
  },
  {
   "cell_type": "code",
   "execution_count": 13,
   "id": "48887b3c-64a4-4b8b-8fa4-92dd21d36a9a",
   "metadata": {},
   "outputs": [
    {
     "data": {
      "text/plain": [
       "Solo Leisure      24068\n",
       "Couple Leisure    17277\n",
       "Family Leisure    12980\n",
       "Business          11543\n",
       "Name: traveller_type, dtype: int64"
      ]
     },
     "execution_count": 13,
     "metadata": {},
     "output_type": "execute_result"
    }
   ],
   "source": [
    "df['traveller_type'].value_counts()"
   ]
  },
  {
   "cell_type": "code",
   "execution_count": 14,
   "id": "35507a3c-a371-4a04-8814-1ffa186836fa",
   "metadata": {},
   "outputs": [],
   "source": [
    "# Generate mask of 103 random positions where NaN values occur\n",
    "mask = np.random.choice(df.index[df['traveller_type'].isna()], size=26, replace=True)\n",
    "\n",
    "# filling a constant value\n",
    "fill_value1 = \"Couple Leisure\"\n",
    "df.loc[mask, 'traveller_type'] = fill_value1"
   ]
  },
  {
   "cell_type": "code",
   "execution_count": 15,
   "id": "6dcd22d8-a847-413b-9d17-b2cf8f3e1c8f",
   "metadata": {},
   "outputs": [
    {
     "data": {
      "text/plain": [
       "55"
      ]
     },
     "execution_count": 15,
     "metadata": {},
     "output_type": "execute_result"
    }
   ],
   "source": [
    "df['traveller_type'].isna().sum()"
   ]
  },
  {
   "cell_type": "code",
   "execution_count": 16,
   "id": "84ef9685-8188-487a-925d-fb7cd25e6587",
   "metadata": {},
   "outputs": [
    {
     "data": {
      "text/plain": [
       "Solo Leisure      24068\n",
       "Couple Leisure    17301\n",
       "Family Leisure    12980\n",
       "Business          11543\n",
       "Name: traveller_type, dtype: int64"
      ]
     },
     "execution_count": 16,
     "metadata": {},
     "output_type": "execute_result"
    }
   ],
   "source": [
    "df['traveller_type'].value_counts()"
   ]
  },
  {
   "cell_type": "code",
   "execution_count": 17,
   "id": "a458a2db-cd84-4d81-9520-114abb36429c",
   "metadata": {},
   "outputs": [],
   "source": [
    "# Generate mask of 103 random positions where NaN values occur\n",
    "mask = np.random.choice(df.index[df['traveller_type'].isna()], size=26, replace=True)\n",
    "\n",
    "# filling a constant value\n",
    "fill_value2 = \"Family Leisure\"\n",
    "df.loc[mask, 'traveller_type'] = fill_value2"
   ]
  },
  {
   "cell_type": "code",
   "execution_count": 18,
   "id": "31bb0297-6c38-4ed9-998b-373752110840",
   "metadata": {},
   "outputs": [
    {
     "data": {
      "text/plain": [
       "32"
      ]
     },
     "execution_count": 18,
     "metadata": {},
     "output_type": "execute_result"
    }
   ],
   "source": [
    "df['traveller_type'].isna().sum()"
   ]
  },
  {
   "cell_type": "code",
   "execution_count": 19,
   "id": "d319fc05-d3c4-4efc-bd6d-c5b7247743c2",
   "metadata": {},
   "outputs": [
    {
     "data": {
      "text/plain": [
       "Solo Leisure      24068\n",
       "Couple Leisure    17301\n",
       "Family Leisure    13003\n",
       "Business          11543\n",
       "Name: traveller_type, dtype: int64"
      ]
     },
     "execution_count": 19,
     "metadata": {},
     "output_type": "execute_result"
    }
   ],
   "source": [
    "df['traveller_type'].value_counts()"
   ]
  },
  {
   "cell_type": "code",
   "execution_count": 22,
   "id": "16b99a1b-9b94-4071-ba41-68d69f57dcf2",
   "metadata": {},
   "outputs": [],
   "source": [
    "# Generate mask of 103 random positions where NaN values occur\n",
    "mask = np.random.choice(df.index[df['traveller_type'].isna()], size=32, replace=True)\n",
    "\n",
    "# filling a constant value\n",
    "fill_value2 = \"Business\"\n",
    "df.loc[mask, 'traveller_type'] = fill_value2"
   ]
  },
  {
   "cell_type": "code",
   "execution_count": 25,
   "id": "cccbdacf-f312-4388-a42f-3f51e17f2795",
   "metadata": {},
   "outputs": [
    {
     "data": {
      "text/plain": [
       "0"
      ]
     },
     "execution_count": 25,
     "metadata": {},
     "output_type": "execute_result"
    }
   ],
   "source": [
    "df['traveller_type'].isna().sum()"
   ]
  },
  {
   "cell_type": "code",
   "execution_count": 26,
   "id": "b3c35edf-247b-45a2-a229-66a8844b813a",
   "metadata": {},
   "outputs": [],
   "source": [
    "df.to_csv('Pro1.csv', index=False)"
   ]
  },
  {
   "cell_type": "code",
   "execution_count": null,
   "id": "4605ed28-e38a-411e-afb4-309a3e4bf92b",
   "metadata": {},
   "outputs": [],
   "source": []
  }
 ],
 "metadata": {
  "kernelspec": {
   "display_name": "Python 3 (ipykernel)",
   "language": "python",
   "name": "python3"
  },
  "language_info": {
   "codemirror_mode": {
    "name": "ipython",
    "version": 3
   },
   "file_extension": ".py",
   "mimetype": "text/x-python",
   "name": "python",
   "nbconvert_exporter": "python",
   "pygments_lexer": "ipython3",
   "version": "3.10.12"
  }
 },
 "nbformat": 4,
 "nbformat_minor": 5
}
