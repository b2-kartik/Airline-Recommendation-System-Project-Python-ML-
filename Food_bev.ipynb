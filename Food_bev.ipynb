{
 "cells": [
  {
   "cell_type": "markdown",
   "id": "cec68163-4619-49b8-be6f-8dd0453ddb15",
   "metadata": {},
   "source": [
    "### Import Required Packages"
   ]
  },
  {
   "cell_type": "code",
   "execution_count": 3,
   "id": "bf8c38c1-a30c-46d0-b34f-4c3770c7e15a",
   "metadata": {},
   "outputs": [],
   "source": [
    "import pandas as pd\n",
    "import numpy as np\n",
    "import matplotlib.pyplot as plt\n",
    "import seaborn as sns"
   ]
  },
  {
   "cell_type": "markdown",
   "id": "e0d77854-de3b-4ce0-a26e-4568c99ea9c8",
   "metadata": {},
   "source": [
    "### Load the Data"
   ]
  },
  {
   "cell_type": "code",
   "execution_count": 5,
   "id": "a3645bc7-e4d0-400b-b32e-57b3c48aa1f0",
   "metadata": {},
   "outputs": [
    {
     "data": {
      "text/html": [
       "<div>\n",
       "<style scoped>\n",
       "    .dataframe tbody tr th:only-of-type {\n",
       "        vertical-align: middle;\n",
       "    }\n",
       "\n",
       "    .dataframe tbody tr th {\n",
       "        vertical-align: top;\n",
       "    }\n",
       "\n",
       "    .dataframe thead th {\n",
       "        text-align: right;\n",
       "    }\n",
       "</style>\n",
       "<table border=\"1\" class=\"dataframe\">\n",
       "  <thead>\n",
       "    <tr style=\"text-align: right;\">\n",
       "      <th></th>\n",
       "      <th>airline</th>\n",
       "      <th>overall</th>\n",
       "      <th>traveller_type</th>\n",
       "      <th>cabin</th>\n",
       "      <th>seat_comfort</th>\n",
       "      <th>cabin_service</th>\n",
       "      <th>food_bev</th>\n",
       "      <th>entertainment</th>\n",
       "      <th>ground_service</th>\n",
       "      <th>value_for_money</th>\n",
       "      <th>recommended</th>\n",
       "      <th>Customer_reviews_nlp</th>\n",
       "    </tr>\n",
       "  </thead>\n",
       "  <tbody>\n",
       "    <tr>\n",
       "      <th>0</th>\n",
       "      <td>71</td>\n",
       "      <td>7</td>\n",
       "      <td>Business</td>\n",
       "      <td>Economy Class</td>\n",
       "      <td>4.0</td>\n",
       "      <td>5.0</td>\n",
       "      <td>4.0</td>\n",
       "      <td>4</td>\n",
       "      <td>2</td>\n",
       "      <td>4</td>\n",
       "      <td>1</td>\n",
       "      <td>1</td>\n",
       "    </tr>\n",
       "    <tr>\n",
       "      <th>1</th>\n",
       "      <td>71</td>\n",
       "      <td>2</td>\n",
       "      <td>Family Leisure</td>\n",
       "      <td>Economy Class</td>\n",
       "      <td>4.0</td>\n",
       "      <td>1.0</td>\n",
       "      <td>1.0</td>\n",
       "      <td>1</td>\n",
       "      <td>1</td>\n",
       "      <td>1</td>\n",
       "      <td>0</td>\n",
       "      <td>1</td>\n",
       "    </tr>\n",
       "    <tr>\n",
       "      <th>2</th>\n",
       "      <td>71</td>\n",
       "      <td>3</td>\n",
       "      <td>Business</td>\n",
       "      <td>Economy Class</td>\n",
       "      <td>1.0</td>\n",
       "      <td>4.0</td>\n",
       "      <td>1.0</td>\n",
       "      <td>3</td>\n",
       "      <td>1</td>\n",
       "      <td>2</td>\n",
       "      <td>0</td>\n",
       "      <td>1</td>\n",
       "    </tr>\n",
       "    <tr>\n",
       "      <th>3</th>\n",
       "      <td>71</td>\n",
       "      <td>10</td>\n",
       "      <td>Solo Leisure</td>\n",
       "      <td>Economy Class</td>\n",
       "      <td>4.0</td>\n",
       "      <td>5.0</td>\n",
       "      <td>5.0</td>\n",
       "      <td>5</td>\n",
       "      <td>5</td>\n",
       "      <td>5</td>\n",
       "      <td>1</td>\n",
       "      <td>1</td>\n",
       "    </tr>\n",
       "    <tr>\n",
       "      <th>4</th>\n",
       "      <td>71</td>\n",
       "      <td>1</td>\n",
       "      <td>Solo Leisure</td>\n",
       "      <td>Economy Class</td>\n",
       "      <td>1.0</td>\n",
       "      <td>1.0</td>\n",
       "      <td>1.0</td>\n",
       "      <td>1</td>\n",
       "      <td>1</td>\n",
       "      <td>1</td>\n",
       "      <td>0</td>\n",
       "      <td>1</td>\n",
       "    </tr>\n",
       "    <tr>\n",
       "      <th>...</th>\n",
       "      <td>...</td>\n",
       "      <td>...</td>\n",
       "      <td>...</td>\n",
       "      <td>...</td>\n",
       "      <td>...</td>\n",
       "      <td>...</td>\n",
       "      <td>...</td>\n",
       "      <td>...</td>\n",
       "      <td>...</td>\n",
       "      <td>...</td>\n",
       "      <td>...</td>\n",
       "      <td>...</td>\n",
       "    </tr>\n",
       "    <tr>\n",
       "      <th>65942</th>\n",
       "      <td>72</td>\n",
       "      <td>5</td>\n",
       "      <td>Couple Leisure</td>\n",
       "      <td>Economy Class</td>\n",
       "      <td>3.0</td>\n",
       "      <td>5.0</td>\n",
       "      <td>NaN</td>\n",
       "      <td>1</td>\n",
       "      <td>5</td>\n",
       "      <td>2</td>\n",
       "      <td>0</td>\n",
       "      <td>1</td>\n",
       "    </tr>\n",
       "    <tr>\n",
       "      <th>65943</th>\n",
       "      <td>72</td>\n",
       "      <td>5</td>\n",
       "      <td>Couple Leisure</td>\n",
       "      <td>Business Class</td>\n",
       "      <td>1.0</td>\n",
       "      <td>5.0</td>\n",
       "      <td>NaN</td>\n",
       "      <td>3</td>\n",
       "      <td>2</td>\n",
       "      <td>2</td>\n",
       "      <td>0</td>\n",
       "      <td>1</td>\n",
       "    </tr>\n",
       "    <tr>\n",
       "      <th>65944</th>\n",
       "      <td>72</td>\n",
       "      <td>4</td>\n",
       "      <td>Solo Leisure</td>\n",
       "      <td>Business Class</td>\n",
       "      <td>4.0</td>\n",
       "      <td>4.0</td>\n",
       "      <td>NaN</td>\n",
       "      <td>2</td>\n",
       "      <td>3</td>\n",
       "      <td>3</td>\n",
       "      <td>0</td>\n",
       "      <td>1</td>\n",
       "    </tr>\n",
       "    <tr>\n",
       "      <th>65945</th>\n",
       "      <td>72</td>\n",
       "      <td>7</td>\n",
       "      <td>Couple Leisure</td>\n",
       "      <td>Business Class</td>\n",
       "      <td>4.0</td>\n",
       "      <td>1.0</td>\n",
       "      <td>NaN</td>\n",
       "      <td>2</td>\n",
       "      <td>4</td>\n",
       "      <td>3</td>\n",
       "      <td>0</td>\n",
       "      <td>0</td>\n",
       "    </tr>\n",
       "    <tr>\n",
       "      <th>65946</th>\n",
       "      <td>72</td>\n",
       "      <td>4</td>\n",
       "      <td>Solo Leisure</td>\n",
       "      <td>Economy Class</td>\n",
       "      <td>1.0</td>\n",
       "      <td>1.0</td>\n",
       "      <td>NaN</td>\n",
       "      <td>4</td>\n",
       "      <td>1</td>\n",
       "      <td>2</td>\n",
       "      <td>0</td>\n",
       "      <td>1</td>\n",
       "    </tr>\n",
       "  </tbody>\n",
       "</table>\n",
       "<p>65947 rows × 12 columns</p>\n",
       "</div>"
      ],
      "text/plain": [
       "       airline  overall  traveller_type           cabin  seat_comfort  \\\n",
       "0           71        7        Business   Economy Class           4.0   \n",
       "1           71        2  Family Leisure   Economy Class           4.0   \n",
       "2           71        3        Business   Economy Class           1.0   \n",
       "3           71       10    Solo Leisure   Economy Class           4.0   \n",
       "4           71        1    Solo Leisure   Economy Class           1.0   \n",
       "...        ...      ...             ...             ...           ...   \n",
       "65942       72        5  Couple Leisure   Economy Class           3.0   \n",
       "65943       72        5  Couple Leisure  Business Class           1.0   \n",
       "65944       72        4    Solo Leisure  Business Class           4.0   \n",
       "65945       72        7  Couple Leisure  Business Class           4.0   \n",
       "65946       72        4    Solo Leisure   Economy Class           1.0   \n",
       "\n",
       "       cabin_service  food_bev  entertainment  ground_service  \\\n",
       "0                5.0       4.0              4               2   \n",
       "1                1.0       1.0              1               1   \n",
       "2                4.0       1.0              3               1   \n",
       "3                5.0       5.0              5               5   \n",
       "4                1.0       1.0              1               1   \n",
       "...              ...       ...            ...             ...   \n",
       "65942            5.0       NaN              1               5   \n",
       "65943            5.0       NaN              3               2   \n",
       "65944            4.0       NaN              2               3   \n",
       "65945            1.0       NaN              2               4   \n",
       "65946            1.0       NaN              4               1   \n",
       "\n",
       "       value_for_money  recommended  Customer_reviews_nlp  \n",
       "0                    4            1                     1  \n",
       "1                    1            0                     1  \n",
       "2                    2            0                     1  \n",
       "3                    5            1                     1  \n",
       "4                    1            0                     1  \n",
       "...                ...          ...                   ...  \n",
       "65942                2            0                     1  \n",
       "65943                2            0                     1  \n",
       "65944                3            0                     1  \n",
       "65945                3            0                     0  \n",
       "65946                2            0                     1  \n",
       "\n",
       "[65947 rows x 12 columns]"
      ]
     },
     "execution_count": 5,
     "metadata": {},
     "output_type": "execute_result"
    }
   ],
   "source": [
    "df = pd.read_csv('./Pro4.csv')\n",
    "df"
   ]
  },
  {
   "cell_type": "code",
   "execution_count": 3,
   "id": "868151a1-a536-4880-a025-f5ba4677f8ec",
   "metadata": {},
   "outputs": [
    {
     "data": {
      "text/plain": [
       "airline                     0\n",
       "overall                     0\n",
       "traveller_type              0\n",
       "cabin                       0\n",
       "seat_comfort                0\n",
       "cabin_service               0\n",
       "food_bev                13339\n",
       "entertainment               0\n",
       "ground_service              0\n",
       "value_for_money             0\n",
       "recommended                 0\n",
       "Customer_reviews_nlp        0\n",
       "dtype: int64"
      ]
     },
     "execution_count": 3,
     "metadata": {},
     "output_type": "execute_result"
    }
   ],
   "source": [
    "df.isna().sum()"
   ]
  },
  {
   "cell_type": "code",
   "execution_count": 4,
   "id": "a1484a1f-b2f8-45e5-a57a-7ad7f299bcc5",
   "metadata": {},
   "outputs": [
    {
     "data": {
      "text/plain": [
       "1.0    14440\n",
       "4.0    11264\n",
       "5.0     9955\n",
       "3.0     9824\n",
       "2.0     7125\n",
       "Name: food_bev, dtype: int64"
      ]
     },
     "execution_count": 4,
     "metadata": {},
     "output_type": "execute_result"
    }
   ],
   "source": [
    "df['food_bev'].value_counts()"
   ]
  },
  {
   "cell_type": "code",
   "execution_count": 15,
   "id": "c7882fc5-b7a8-4678-a86b-de3507504990",
   "metadata": {},
   "outputs": [],
   "source": [
    "# Generate mask of 380 random positions where NaN values occur\n",
    "mask = np.random.choice(df.index[df['food_bev'].isna()], size=2668, replace=True)\n",
    "\n",
    "# filling a constat value\n",
    "fill_value = 1.0\n",
    "df.loc[mask, 'food_bev'] = fill_value"
   ]
  },
  {
   "cell_type": "code",
   "execution_count": 6,
   "id": "9dec660a-9568-4f5f-82d0-a181d5802808",
   "metadata": {},
   "outputs": [
    {
     "data": {
      "text/plain": [
       "10940"
      ]
     },
     "execution_count": 6,
     "metadata": {},
     "output_type": "execute_result"
    }
   ],
   "source": [
    "df['food_bev'].isna().sum()"
   ]
  },
  {
   "cell_type": "code",
   "execution_count": 7,
   "id": "264c3efa-5fba-4166-a7ac-1499ebd16e0c",
   "metadata": {},
   "outputs": [],
   "source": [
    "# Generate mask of 380 random positions where NaN values occur\n",
    "mask = np.random.choice(df.index[df['food_bev'].isna()], size=2668, replace=True)\n",
    "\n",
    "# filling a constat value\n",
    "fill_value1 = 2.0\n",
    "df.loc[mask, 'food_bev'] = fill_value1"
   ]
  },
  {
   "cell_type": "code",
   "execution_count": 8,
   "id": "406e160d-6c4e-41ba-962b-80e88ce3243c",
   "metadata": {},
   "outputs": [
    {
     "data": {
      "text/plain": [
       "8572"
      ]
     },
     "execution_count": 8,
     "metadata": {},
     "output_type": "execute_result"
    }
   ],
   "source": [
    "df['food_bev'].isna().sum()"
   ]
  },
  {
   "cell_type": "code",
   "execution_count": 9,
   "id": "f29e5ea4-ae88-4de7-a987-e7f21e95f40c",
   "metadata": {},
   "outputs": [],
   "source": [
    "# Generate mask of 380 random positions where NaN values occur\n",
    "mask = np.random.choice(df.index[df['food_bev'].isna()], size=2668, replace=True)\n",
    "\n",
    "# filling a constat value\n",
    "fill_value2 = 3.0\n",
    "df.loc[mask, 'food_bev'] = fill_value2"
   ]
  },
  {
   "cell_type": "code",
   "execution_count": 10,
   "id": "e9b202ca-bd65-477e-9811-b6189c016c49",
   "metadata": {},
   "outputs": [
    {
     "data": {
      "text/plain": [
       "6322"
      ]
     },
     "execution_count": 10,
     "metadata": {},
     "output_type": "execute_result"
    }
   ],
   "source": [
    "df['food_bev'].isna().sum()"
   ]
  },
  {
   "cell_type": "code",
   "execution_count": 17,
   "id": "5d8f0fc2-689a-4521-bbca-51187f75c4ff",
   "metadata": {},
   "outputs": [],
   "source": [
    "# Generate mask of 380 random positions where NaN values occur\n",
    "mask = np.random.choice(df.index[df['food_bev'].isna()], size=2668, replace=True)\n",
    "\n",
    "# filling a constat value\n",
    "fill_value3 = 4.0\n",
    "df.loc[mask, 'food_bev'] = fill_value3"
   ]
  },
  {
   "cell_type": "code",
   "execution_count": 12,
   "id": "d72a347d-36c3-4e6c-8396-649c6b869c8f",
   "metadata": {},
   "outputs": [
    {
     "data": {
      "text/plain": [
       "4147"
      ]
     },
     "execution_count": 12,
     "metadata": {},
     "output_type": "execute_result"
    }
   ],
   "source": [
    "df['food_bev'].isna().sum()"
   ]
  },
  {
   "cell_type": "code",
   "execution_count": 20,
   "id": "a4e0c4e1-4af7-4f93-9bf3-d0d75bef6697",
   "metadata": {},
   "outputs": [],
   "source": [
    "# Generate mask of 380 random positions where NaN values occur\n",
    "mask = np.random.choice(df.index[df['food_bev'].isna()], size=2668, replace=True)\n",
    "\n",
    "# filling a constat value\n",
    "fill_value4 = 5.0\n",
    "df.loc[mask, 'food_bev'] = fill_value4"
   ]
  },
  {
   "cell_type": "code",
   "execution_count": 21,
   "id": "fc7db239-c0fc-4af6-a23b-f9fda63cb59e",
   "metadata": {},
   "outputs": [
    {
     "data": {
      "text/plain": [
       "0"
      ]
     },
     "execution_count": 21,
     "metadata": {},
     "output_type": "execute_result"
    }
   ],
   "source": [
    "df['food_bev'].isna().sum()"
   ]
  },
  {
   "cell_type": "code",
   "execution_count": 22,
   "id": "e705e43f-2b3c-4f3b-8fe2-0df1e1701004",
   "metadata": {},
   "outputs": [],
   "source": [
    "df.to_csv('Pro5.csv', index=False)"
   ]
  },
  {
   "cell_type": "code",
   "execution_count": null,
   "id": "91220fe8-94f1-40fd-b8ff-1fee3ba43064",
   "metadata": {},
   "outputs": [],
   "source": []
  }
 ],
 "metadata": {
  "kernelspec": {
   "display_name": "Python 3 (ipykernel)",
   "language": "python",
   "name": "python3"
  },
  "language_info": {
   "codemirror_mode": {
    "name": "ipython",
    "version": 3
   },
   "file_extension": ".py",
   "mimetype": "text/x-python",
   "name": "python",
   "nbconvert_exporter": "python",
   "pygments_lexer": "ipython3",
   "version": "3.10.12"
  }
 },
 "nbformat": 4,
 "nbformat_minor": 5
}
