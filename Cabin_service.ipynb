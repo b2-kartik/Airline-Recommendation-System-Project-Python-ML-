{
 "cells": [
  {
   "cell_type": "markdown",
   "id": "8c698519-a572-4b9f-8ba8-324d19b59ab2",
   "metadata": {},
   "source": [
    "### Import Required Packages"
   ]
  },
  {
   "cell_type": "code",
   "execution_count": 1,
   "id": "6cd40913-3c9e-40a9-8d16-02b836d37e35",
   "metadata": {},
   "outputs": [
    {
     "name": "stderr",
     "output_type": "stream",
     "text": [
      "/usr/local/lib/python3.10/dist-packages/matplotlib/projections/__init__.py:63: UserWarning: Unable to import Axes3D. This may be due to multiple versions of Matplotlib being installed (e.g. as a system package and as a pip package). As a result, the 3D projection is not available.\n",
      "  warnings.warn(\"Unable to import Axes3D. This may be due to multiple versions of \"\n"
     ]
    }
   ],
   "source": [
    "import pandas as pd\n",
    "import numpy as np\n",
    "import matplotlib.pyplot as plt\n",
    "import seaborn as sns"
   ]
  },
  {
   "cell_type": "markdown",
   "id": "22525bb0-1554-4f54-a238-e6dd1b5093c9",
   "metadata": {},
   "source": [
    "### Load the Data"
   ]
  },
  {
   "cell_type": "code",
   "execution_count": 2,
   "id": "bd2c4a07-ce37-48a8-80cf-98ff6c139f48",
   "metadata": {},
   "outputs": [
    {
     "data": {
      "text/html": [
       "<div>\n",
       "<style scoped>\n",
       "    .dataframe tbody tr th:only-of-type {\n",
       "        vertical-align: middle;\n",
       "    }\n",
       "\n",
       "    .dataframe tbody tr th {\n",
       "        vertical-align: top;\n",
       "    }\n",
       "\n",
       "    .dataframe thead th {\n",
       "        text-align: right;\n",
       "    }\n",
       "</style>\n",
       "<table border=\"1\" class=\"dataframe\">\n",
       "  <thead>\n",
       "    <tr style=\"text-align: right;\">\n",
       "      <th></th>\n",
       "      <th>airline</th>\n",
       "      <th>overall</th>\n",
       "      <th>traveller_type</th>\n",
       "      <th>cabin</th>\n",
       "      <th>seat_comfort</th>\n",
       "      <th>cabin_service</th>\n",
       "      <th>food_bev</th>\n",
       "      <th>entertainment</th>\n",
       "      <th>ground_service</th>\n",
       "      <th>value_for_money</th>\n",
       "      <th>recommended</th>\n",
       "      <th>Customer_reviews_nlp</th>\n",
       "    </tr>\n",
       "  </thead>\n",
       "  <tbody>\n",
       "    <tr>\n",
       "      <th>0</th>\n",
       "      <td>71</td>\n",
       "      <td>7</td>\n",
       "      <td>Business</td>\n",
       "      <td>Economy Class</td>\n",
       "      <td>4.0</td>\n",
       "      <td>5.0</td>\n",
       "      <td>4.0</td>\n",
       "      <td>4</td>\n",
       "      <td>2</td>\n",
       "      <td>4</td>\n",
       "      <td>1</td>\n",
       "      <td>1</td>\n",
       "    </tr>\n",
       "    <tr>\n",
       "      <th>1</th>\n",
       "      <td>71</td>\n",
       "      <td>2</td>\n",
       "      <td>Family Leisure</td>\n",
       "      <td>Economy Class</td>\n",
       "      <td>4.0</td>\n",
       "      <td>1.0</td>\n",
       "      <td>1.0</td>\n",
       "      <td>1</td>\n",
       "      <td>1</td>\n",
       "      <td>1</td>\n",
       "      <td>0</td>\n",
       "      <td>1</td>\n",
       "    </tr>\n",
       "    <tr>\n",
       "      <th>2</th>\n",
       "      <td>71</td>\n",
       "      <td>3</td>\n",
       "      <td>Business</td>\n",
       "      <td>Economy Class</td>\n",
       "      <td>1.0</td>\n",
       "      <td>4.0</td>\n",
       "      <td>1.0</td>\n",
       "      <td>3</td>\n",
       "      <td>1</td>\n",
       "      <td>2</td>\n",
       "      <td>0</td>\n",
       "      <td>1</td>\n",
       "    </tr>\n",
       "    <tr>\n",
       "      <th>3</th>\n",
       "      <td>71</td>\n",
       "      <td>10</td>\n",
       "      <td>Solo Leisure</td>\n",
       "      <td>Economy Class</td>\n",
       "      <td>4.0</td>\n",
       "      <td>5.0</td>\n",
       "      <td>5.0</td>\n",
       "      <td>5</td>\n",
       "      <td>5</td>\n",
       "      <td>5</td>\n",
       "      <td>1</td>\n",
       "      <td>1</td>\n",
       "    </tr>\n",
       "    <tr>\n",
       "      <th>4</th>\n",
       "      <td>71</td>\n",
       "      <td>1</td>\n",
       "      <td>Solo Leisure</td>\n",
       "      <td>Economy Class</td>\n",
       "      <td>1.0</td>\n",
       "      <td>1.0</td>\n",
       "      <td>1.0</td>\n",
       "      <td>1</td>\n",
       "      <td>1</td>\n",
       "      <td>1</td>\n",
       "      <td>0</td>\n",
       "      <td>1</td>\n",
       "    </tr>\n",
       "    <tr>\n",
       "      <th>...</th>\n",
       "      <td>...</td>\n",
       "      <td>...</td>\n",
       "      <td>...</td>\n",
       "      <td>...</td>\n",
       "      <td>...</td>\n",
       "      <td>...</td>\n",
       "      <td>...</td>\n",
       "      <td>...</td>\n",
       "      <td>...</td>\n",
       "      <td>...</td>\n",
       "      <td>...</td>\n",
       "      <td>...</td>\n",
       "    </tr>\n",
       "    <tr>\n",
       "      <th>65942</th>\n",
       "      <td>72</td>\n",
       "      <td>5</td>\n",
       "      <td>Couple Leisure</td>\n",
       "      <td>Economy Class</td>\n",
       "      <td>3.0</td>\n",
       "      <td>NaN</td>\n",
       "      <td>NaN</td>\n",
       "      <td>1</td>\n",
       "      <td>5</td>\n",
       "      <td>2</td>\n",
       "      <td>0</td>\n",
       "      <td>1</td>\n",
       "    </tr>\n",
       "    <tr>\n",
       "      <th>65943</th>\n",
       "      <td>72</td>\n",
       "      <td>5</td>\n",
       "      <td>Couple Leisure</td>\n",
       "      <td>Business Class</td>\n",
       "      <td>1.0</td>\n",
       "      <td>NaN</td>\n",
       "      <td>NaN</td>\n",
       "      <td>3</td>\n",
       "      <td>2</td>\n",
       "      <td>2</td>\n",
       "      <td>0</td>\n",
       "      <td>1</td>\n",
       "    </tr>\n",
       "    <tr>\n",
       "      <th>65944</th>\n",
       "      <td>72</td>\n",
       "      <td>4</td>\n",
       "      <td>Solo Leisure</td>\n",
       "      <td>Business Class</td>\n",
       "      <td>4.0</td>\n",
       "      <td>NaN</td>\n",
       "      <td>NaN</td>\n",
       "      <td>2</td>\n",
       "      <td>3</td>\n",
       "      <td>3</td>\n",
       "      <td>0</td>\n",
       "      <td>1</td>\n",
       "    </tr>\n",
       "    <tr>\n",
       "      <th>65945</th>\n",
       "      <td>72</td>\n",
       "      <td>7</td>\n",
       "      <td>Couple Leisure</td>\n",
       "      <td>Business Class</td>\n",
       "      <td>4.0</td>\n",
       "      <td>NaN</td>\n",
       "      <td>NaN</td>\n",
       "      <td>2</td>\n",
       "      <td>4</td>\n",
       "      <td>3</td>\n",
       "      <td>0</td>\n",
       "      <td>0</td>\n",
       "    </tr>\n",
       "    <tr>\n",
       "      <th>65946</th>\n",
       "      <td>72</td>\n",
       "      <td>4</td>\n",
       "      <td>Solo Leisure</td>\n",
       "      <td>Economy Class</td>\n",
       "      <td>1.0</td>\n",
       "      <td>NaN</td>\n",
       "      <td>NaN</td>\n",
       "      <td>4</td>\n",
       "      <td>1</td>\n",
       "      <td>2</td>\n",
       "      <td>0</td>\n",
       "      <td>1</td>\n",
       "    </tr>\n",
       "  </tbody>\n",
       "</table>\n",
       "<p>65947 rows × 12 columns</p>\n",
       "</div>"
      ],
      "text/plain": [
       "       airline  overall  traveller_type           cabin  seat_comfort  \\\n",
       "0           71        7        Business   Economy Class           4.0   \n",
       "1           71        2  Family Leisure   Economy Class           4.0   \n",
       "2           71        3        Business   Economy Class           1.0   \n",
       "3           71       10    Solo Leisure   Economy Class           4.0   \n",
       "4           71        1    Solo Leisure   Economy Class           1.0   \n",
       "...        ...      ...             ...             ...           ...   \n",
       "65942       72        5  Couple Leisure   Economy Class           3.0   \n",
       "65943       72        5  Couple Leisure  Business Class           1.0   \n",
       "65944       72        4    Solo Leisure  Business Class           4.0   \n",
       "65945       72        7  Couple Leisure  Business Class           4.0   \n",
       "65946       72        4    Solo Leisure   Economy Class           1.0   \n",
       "\n",
       "       cabin_service  food_bev  entertainment  ground_service  \\\n",
       "0                5.0       4.0              4               2   \n",
       "1                1.0       1.0              1               1   \n",
       "2                4.0       1.0              3               1   \n",
       "3                5.0       5.0              5               5   \n",
       "4                1.0       1.0              1               1   \n",
       "...              ...       ...            ...             ...   \n",
       "65942            NaN       NaN              1               5   \n",
       "65943            NaN       NaN              3               2   \n",
       "65944            NaN       NaN              2               3   \n",
       "65945            NaN       NaN              2               4   \n",
       "65946            NaN       NaN              4               1   \n",
       "\n",
       "       value_for_money  recommended  Customer_reviews_nlp  \n",
       "0                    4            1                     1  \n",
       "1                    1            0                     1  \n",
       "2                    2            0                     1  \n",
       "3                    5            1                     1  \n",
       "4                    1            0                     1  \n",
       "...                ...          ...                   ...  \n",
       "65942                2            0                     1  \n",
       "65943                2            0                     1  \n",
       "65944                3            0                     1  \n",
       "65945                3            0                     0  \n",
       "65946                2            0                     1  \n",
       "\n",
       "[65947 rows x 12 columns]"
      ]
     },
     "execution_count": 2,
     "metadata": {},
     "output_type": "execute_result"
    }
   ],
   "source": [
    "df = pd.read_csv('./Pro3.csv')\n",
    "df"
   ]
  },
  {
   "cell_type": "code",
   "execution_count": 3,
   "id": "e16b8922-e9dd-4bd4-baa4-238c321c6826",
   "metadata": {},
   "outputs": [
    {
     "data": {
      "text/plain": [
       "airline                     0\n",
       "overall                     0\n",
       "traveller_type              0\n",
       "cabin                       0\n",
       "seat_comfort                0\n",
       "cabin_service            5232\n",
       "food_bev                13339\n",
       "entertainment               0\n",
       "ground_service              0\n",
       "value_for_money             0\n",
       "recommended                 0\n",
       "Customer_reviews_nlp        0\n",
       "dtype: int64"
      ]
     },
     "execution_count": 3,
     "metadata": {},
     "output_type": "execute_result"
    }
   ],
   "source": [
    "df.isna().sum()"
   ]
  },
  {
   "cell_type": "code",
   "execution_count": 4,
   "id": "79b275ce-7e34-4324-8483-15ce5e8fa9cd",
   "metadata": {},
   "outputs": [
    {
     "data": {
      "text/plain": [
       "5.0    18426\n",
       "1.0    14660\n",
       "4.0    11428\n",
       "3.0     8887\n",
       "2.0     7314\n",
       "Name: cabin_service, dtype: int64"
      ]
     },
     "execution_count": 4,
     "metadata": {},
     "output_type": "execute_result"
    }
   ],
   "source": [
    "df['cabin_service'].value_counts()"
   ]
  },
  {
   "cell_type": "code",
   "execution_count": 16,
   "id": "be0d0c2f-502e-4820-88aa-839177c959c1",
   "metadata": {},
   "outputs": [],
   "source": [
    "# Generate mask of 380 random positions where NaN values occur\n",
    "mask = np.random.choice(df.index[df['cabin_service'].isna()], size=1047, replace=True)\n",
    "\n",
    "# filling a constat value\n",
    "fill_value = 1\n",
    "df.loc[mask, 'cabin_service'] = fill_value"
   ]
  },
  {
   "cell_type": "code",
   "execution_count": 6,
   "id": "dc2feec0-5c97-4fff-9c6d-3378e9c9e025",
   "metadata": {},
   "outputs": [
    {
     "data": {
      "text/plain": [
       "4277"
      ]
     },
     "execution_count": 6,
     "metadata": {},
     "output_type": "execute_result"
    }
   ],
   "source": [
    "df['cabin_service'].isna().sum()"
   ]
  },
  {
   "cell_type": "code",
   "execution_count": 18,
   "id": "96c1f1ff-6e14-48c9-b9d5-22fac5cbf550",
   "metadata": {},
   "outputs": [],
   "source": [
    "# Generate mask of 380 random positions where NaN values occur\n",
    "mask = np.random.choice(df.index[df['cabin_service'].isna()], size=1047, replace=True)\n",
    "\n",
    "# filling a constat value\n",
    "fill_value1 = 2\n",
    "df.loc[mask, 'cabin_service'] = fill_value1"
   ]
  },
  {
   "cell_type": "code",
   "execution_count": 8,
   "id": "23303f4b-d1e3-47af-ad8b-dc35c8db70c1",
   "metadata": {},
   "outputs": [
    {
     "data": {
      "text/plain": [
       "3351"
      ]
     },
     "execution_count": 8,
     "metadata": {},
     "output_type": "execute_result"
    }
   ],
   "source": [
    "df['cabin_service'].isna().sum()"
   ]
  },
  {
   "cell_type": "code",
   "execution_count": 9,
   "id": "d4a78b71-dcbc-4756-a5f0-3b031e225ff2",
   "metadata": {},
   "outputs": [],
   "source": [
    "# Generate mask of 380 random positions where NaN values occur\n",
    "mask = np.random.choice(df.index[df['cabin_service'].isna()], size=1047, replace=True)\n",
    "\n",
    "# filling a constat value\n",
    "fill_value2 = 3\n",
    "df.loc[mask, 'cabin_service'] = fill_value2"
   ]
  },
  {
   "cell_type": "code",
   "execution_count": 10,
   "id": "dc581002-84a5-4d07-ae36-014187e9470c",
   "metadata": {},
   "outputs": [
    {
     "data": {
      "text/plain": [
       "2445"
      ]
     },
     "execution_count": 10,
     "metadata": {},
     "output_type": "execute_result"
    }
   ],
   "source": [
    "df['cabin_service'].isna().sum()"
   ]
  },
  {
   "cell_type": "code",
   "execution_count": 11,
   "id": "f6796a3c-2416-402e-a34c-5a755ba8e1a1",
   "metadata": {},
   "outputs": [],
   "source": [
    "# Generate mask of 380 random positions where NaN values occur\n",
    "mask = np.random.choice(df.index[df['cabin_service'].isna()], size=1047, replace=True)\n",
    "\n",
    "# filling a constat value\n",
    "fill_value3 = 4\n",
    "df.loc[mask, 'cabin_service'] = fill_value3"
   ]
  },
  {
   "cell_type": "code",
   "execution_count": 15,
   "id": "8a6e0737-b07a-431d-a9ff-a4eadb99556c",
   "metadata": {},
   "outputs": [
    {
     "data": {
      "text/plain": [
       "1628"
      ]
     },
     "execution_count": 15,
     "metadata": {},
     "output_type": "execute_result"
    }
   ],
   "source": [
    "df['cabin_service'].isna().sum()"
   ]
  },
  {
   "cell_type": "code",
   "execution_count": 14,
   "id": "2e1d6fb4-f14c-465b-8fef-9ede86b5eb5d",
   "metadata": {},
   "outputs": [],
   "source": [
    "# Generate mask of 380 random positions where NaN values occur\n",
    "mask = np.random.choice(df.index[df['cabin_service'].isna()], size=1047, replace=True)\n",
    "\n",
    "# filling a constat value\n",
    "fill_value4 = 5\n",
    "df.loc[mask, 'cabin_service'] = fill_value4"
   ]
  },
  {
   "cell_type": "code",
   "execution_count": 19,
   "id": "777176a8-7d2c-4903-8356-e3788820b1ca",
   "metadata": {},
   "outputs": [
    {
     "data": {
      "text/plain": [
       "0"
      ]
     },
     "execution_count": 19,
     "metadata": {},
     "output_type": "execute_result"
    }
   ],
   "source": [
    "df['cabin_service'].isna().sum()"
   ]
  },
  {
   "cell_type": "code",
   "execution_count": 20,
   "id": "065c86f5-adbf-4863-a4e1-ad0f91e3645c",
   "metadata": {},
   "outputs": [],
   "source": [
    "df.to_csv('Pro4.csv', index=False)"
   ]
  },
  {
   "cell_type": "code",
   "execution_count": null,
   "id": "f2e39bec-9a67-4f2f-a210-1cc8b93490f7",
   "metadata": {},
   "outputs": [],
   "source": []
  }
 ],
 "metadata": {
  "kernelspec": {
   "display_name": "Python 3 (ipykernel)",
   "language": "python",
   "name": "python3"
  },
  "language_info": {
   "codemirror_mode": {
    "name": "ipython",
    "version": 3
   },
   "file_extension": ".py",
   "mimetype": "text/x-python",
   "name": "python",
   "nbconvert_exporter": "python",
   "pygments_lexer": "ipython3",
   "version": "3.10.12"
  }
 },
 "nbformat": 4,
 "nbformat_minor": 5
}
