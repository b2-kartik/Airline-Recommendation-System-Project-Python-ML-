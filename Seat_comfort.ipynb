{
 "cells": [
  {
   "cell_type": "markdown",
   "id": "92e2af6e-5608-410a-9ca3-2eecafda6efb",
   "metadata": {},
   "source": [
    "### Import Required Packages"
   ]
  },
  {
   "cell_type": "code",
   "execution_count": 1,
   "id": "098d5fdd-7af4-40f1-8e02-a7bea259cbbb",
   "metadata": {},
   "outputs": [
    {
     "name": "stderr",
     "output_type": "stream",
     "text": [
      "/usr/local/lib/python3.10/dist-packages/matplotlib/projections/__init__.py:63: UserWarning: Unable to import Axes3D. This may be due to multiple versions of Matplotlib being installed (e.g. as a system package and as a pip package). As a result, the 3D projection is not available.\n",
      "  warnings.warn(\"Unable to import Axes3D. This may be due to multiple versions of \"\n"
     ]
    }
   ],
   "source": [
    "import pandas as pd\n",
    "import numpy as np\n",
    "import matplotlib.pyplot as plt"
   ]
  },
  {
   "cell_type": "markdown",
   "id": "5f8c7afe-5ada-458d-8a61-6ae48b295bb0",
   "metadata": {},
   "source": [
    "### Load the Data"
   ]
  },
  {
   "cell_type": "code",
   "execution_count": 2,
   "id": "524d8822-31c3-4b41-995b-73c85259c5cd",
   "metadata": {},
   "outputs": [
    {
     "data": {
      "text/html": [
       "<div>\n",
       "<style scoped>\n",
       "    .dataframe tbody tr th:only-of-type {\n",
       "        vertical-align: middle;\n",
       "    }\n",
       "\n",
       "    .dataframe tbody tr th {\n",
       "        vertical-align: top;\n",
       "    }\n",
       "\n",
       "    .dataframe thead th {\n",
       "        text-align: right;\n",
       "    }\n",
       "</style>\n",
       "<table border=\"1\" class=\"dataframe\">\n",
       "  <thead>\n",
       "    <tr style=\"text-align: right;\">\n",
       "      <th></th>\n",
       "      <th>airline</th>\n",
       "      <th>overall</th>\n",
       "      <th>traveller_type</th>\n",
       "      <th>cabin</th>\n",
       "      <th>seat_comfort</th>\n",
       "      <th>cabin_service</th>\n",
       "      <th>food_bev</th>\n",
       "      <th>entertainment</th>\n",
       "      <th>ground_service</th>\n",
       "      <th>value_for_money</th>\n",
       "      <th>recommended</th>\n",
       "      <th>Customer_reviews_nlp</th>\n",
       "    </tr>\n",
       "  </thead>\n",
       "  <tbody>\n",
       "    <tr>\n",
       "      <th>0</th>\n",
       "      <td>71</td>\n",
       "      <td>7</td>\n",
       "      <td>Business</td>\n",
       "      <td>Economy Class</td>\n",
       "      <td>4.0</td>\n",
       "      <td>5.0</td>\n",
       "      <td>4.0</td>\n",
       "      <td>4</td>\n",
       "      <td>2</td>\n",
       "      <td>4</td>\n",
       "      <td>1</td>\n",
       "      <td>1</td>\n",
       "    </tr>\n",
       "    <tr>\n",
       "      <th>1</th>\n",
       "      <td>71</td>\n",
       "      <td>2</td>\n",
       "      <td>Family Leisure</td>\n",
       "      <td>Economy Class</td>\n",
       "      <td>4.0</td>\n",
       "      <td>1.0</td>\n",
       "      <td>1.0</td>\n",
       "      <td>1</td>\n",
       "      <td>1</td>\n",
       "      <td>1</td>\n",
       "      <td>0</td>\n",
       "      <td>1</td>\n",
       "    </tr>\n",
       "    <tr>\n",
       "      <th>2</th>\n",
       "      <td>71</td>\n",
       "      <td>3</td>\n",
       "      <td>Business</td>\n",
       "      <td>Economy Class</td>\n",
       "      <td>1.0</td>\n",
       "      <td>4.0</td>\n",
       "      <td>1.0</td>\n",
       "      <td>3</td>\n",
       "      <td>1</td>\n",
       "      <td>2</td>\n",
       "      <td>0</td>\n",
       "      <td>1</td>\n",
       "    </tr>\n",
       "    <tr>\n",
       "      <th>3</th>\n",
       "      <td>71</td>\n",
       "      <td>10</td>\n",
       "      <td>Solo Leisure</td>\n",
       "      <td>Economy Class</td>\n",
       "      <td>4.0</td>\n",
       "      <td>5.0</td>\n",
       "      <td>5.0</td>\n",
       "      <td>5</td>\n",
       "      <td>5</td>\n",
       "      <td>5</td>\n",
       "      <td>1</td>\n",
       "      <td>1</td>\n",
       "    </tr>\n",
       "    <tr>\n",
       "      <th>4</th>\n",
       "      <td>71</td>\n",
       "      <td>1</td>\n",
       "      <td>Solo Leisure</td>\n",
       "      <td>Economy Class</td>\n",
       "      <td>1.0</td>\n",
       "      <td>1.0</td>\n",
       "      <td>1.0</td>\n",
       "      <td>1</td>\n",
       "      <td>1</td>\n",
       "      <td>1</td>\n",
       "      <td>0</td>\n",
       "      <td>1</td>\n",
       "    </tr>\n",
       "    <tr>\n",
       "      <th>...</th>\n",
       "      <td>...</td>\n",
       "      <td>...</td>\n",
       "      <td>...</td>\n",
       "      <td>...</td>\n",
       "      <td>...</td>\n",
       "      <td>...</td>\n",
       "      <td>...</td>\n",
       "      <td>...</td>\n",
       "      <td>...</td>\n",
       "      <td>...</td>\n",
       "      <td>...</td>\n",
       "      <td>...</td>\n",
       "    </tr>\n",
       "    <tr>\n",
       "      <th>65942</th>\n",
       "      <td>72</td>\n",
       "      <td>5</td>\n",
       "      <td>Couple Leisure</td>\n",
       "      <td>Economy Class</td>\n",
       "      <td>NaN</td>\n",
       "      <td>NaN</td>\n",
       "      <td>NaN</td>\n",
       "      <td>1</td>\n",
       "      <td>5</td>\n",
       "      <td>2</td>\n",
       "      <td>0</td>\n",
       "      <td>1</td>\n",
       "    </tr>\n",
       "    <tr>\n",
       "      <th>65943</th>\n",
       "      <td>72</td>\n",
       "      <td>5</td>\n",
       "      <td>Couple Leisure</td>\n",
       "      <td>Business Class</td>\n",
       "      <td>NaN</td>\n",
       "      <td>NaN</td>\n",
       "      <td>NaN</td>\n",
       "      <td>3</td>\n",
       "      <td>2</td>\n",
       "      <td>2</td>\n",
       "      <td>0</td>\n",
       "      <td>1</td>\n",
       "    </tr>\n",
       "    <tr>\n",
       "      <th>65944</th>\n",
       "      <td>72</td>\n",
       "      <td>4</td>\n",
       "      <td>Solo Leisure</td>\n",
       "      <td>Business Class</td>\n",
       "      <td>NaN</td>\n",
       "      <td>NaN</td>\n",
       "      <td>NaN</td>\n",
       "      <td>2</td>\n",
       "      <td>3</td>\n",
       "      <td>3</td>\n",
       "      <td>0</td>\n",
       "      <td>1</td>\n",
       "    </tr>\n",
       "    <tr>\n",
       "      <th>65945</th>\n",
       "      <td>72</td>\n",
       "      <td>7</td>\n",
       "      <td>Couple Leisure</td>\n",
       "      <td>Business Class</td>\n",
       "      <td>NaN</td>\n",
       "      <td>NaN</td>\n",
       "      <td>NaN</td>\n",
       "      <td>2</td>\n",
       "      <td>4</td>\n",
       "      <td>3</td>\n",
       "      <td>0</td>\n",
       "      <td>0</td>\n",
       "    </tr>\n",
       "    <tr>\n",
       "      <th>65946</th>\n",
       "      <td>72</td>\n",
       "      <td>4</td>\n",
       "      <td>Solo Leisure</td>\n",
       "      <td>Economy Class</td>\n",
       "      <td>NaN</td>\n",
       "      <td>NaN</td>\n",
       "      <td>NaN</td>\n",
       "      <td>4</td>\n",
       "      <td>1</td>\n",
       "      <td>2</td>\n",
       "      <td>0</td>\n",
       "      <td>1</td>\n",
       "    </tr>\n",
       "  </tbody>\n",
       "</table>\n",
       "<p>65947 rows × 12 columns</p>\n",
       "</div>"
      ],
      "text/plain": [
       "       airline  overall  traveller_type           cabin  seat_comfort  \\\n",
       "0           71        7        Business   Economy Class           4.0   \n",
       "1           71        2  Family Leisure   Economy Class           4.0   \n",
       "2           71        3        Business   Economy Class           1.0   \n",
       "3           71       10    Solo Leisure   Economy Class           4.0   \n",
       "4           71        1    Solo Leisure   Economy Class           1.0   \n",
       "...        ...      ...             ...             ...           ...   \n",
       "65942       72        5  Couple Leisure   Economy Class           NaN   \n",
       "65943       72        5  Couple Leisure  Business Class           NaN   \n",
       "65944       72        4    Solo Leisure  Business Class           NaN   \n",
       "65945       72        7  Couple Leisure  Business Class           NaN   \n",
       "65946       72        4    Solo Leisure   Economy Class           NaN   \n",
       "\n",
       "       cabin_service  food_bev  entertainment  ground_service  \\\n",
       "0                5.0       4.0              4               2   \n",
       "1                1.0       1.0              1               1   \n",
       "2                4.0       1.0              3               1   \n",
       "3                5.0       5.0              5               5   \n",
       "4                1.0       1.0              1               1   \n",
       "...              ...       ...            ...             ...   \n",
       "65942            NaN       NaN              1               5   \n",
       "65943            NaN       NaN              3               2   \n",
       "65944            NaN       NaN              2               3   \n",
       "65945            NaN       NaN              2               4   \n",
       "65946            NaN       NaN              4               1   \n",
       "\n",
       "       value_for_money  recommended  Customer_reviews_nlp  \n",
       "0                    4            1                     1  \n",
       "1                    1            0                     1  \n",
       "2                    2            0                     1  \n",
       "3                    5            1                     1  \n",
       "4                    1            0                     1  \n",
       "...                ...          ...                   ...  \n",
       "65942                2            0                     1  \n",
       "65943                2            0                     1  \n",
       "65944                3            0                     1  \n",
       "65945                3            0                     0  \n",
       "65946                2            0                     1  \n",
       "\n",
       "[65947 rows x 12 columns]"
      ]
     },
     "execution_count": 2,
     "metadata": {},
     "output_type": "execute_result"
    }
   ],
   "source": [
    "df = pd.read_csv('./Pro2.csv')\n",
    "df"
   ]
  },
  {
   "cell_type": "code",
   "execution_count": 4,
   "id": "ea670fea-9829-4856-9576-c7bb74ed143e",
   "metadata": {},
   "outputs": [
    {
     "data": {
      "text/plain": [
       "airline                     0\n",
       "overall                     0\n",
       "traveller_type              0\n",
       "cabin                       0\n",
       "seat_comfort             5266\n",
       "cabin_service            5232\n",
       "food_bev                13339\n",
       "entertainment               0\n",
       "ground_service              0\n",
       "value_for_money             0\n",
       "recommended                 0\n",
       "Customer_reviews_nlp        0\n",
       "dtype: int64"
      ]
     },
     "execution_count": 4,
     "metadata": {},
     "output_type": "execute_result"
    }
   ],
   "source": [
    "df.isna().sum()"
   ]
  },
  {
   "cell_type": "code",
   "execution_count": 5,
   "id": "527f5bf2-e9b6-44e6-a5b6-1956ce7bb1da",
   "metadata": {},
   "outputs": [
    {
     "data": {
      "text/plain": [
       "1.0    15222\n",
       "4.0    14433\n",
       "3.0    12139\n",
       "5.0    10665\n",
       "2.0     8222\n",
       "Name: seat_comfort, dtype: int64"
      ]
     },
     "execution_count": 5,
     "metadata": {},
     "output_type": "execute_result"
    }
   ],
   "source": [
    "df['seat_comfort'].value_counts()"
   ]
  },
  {
   "cell_type": "code",
   "execution_count": 16,
   "id": "ba77fb19-c242-42cc-b106-72ebb217cb32",
   "metadata": {},
   "outputs": [],
   "source": [
    "# Generate mask of 380 random positions where NaN values occur\n",
    "mask = np.random.choice(df.index[df['seat_comfort'].isna()], size=1054, replace=True)\n",
    "\n",
    "# filling a constat value\n",
    "fill_value = 1.0\n",
    "df.loc[mask, 'seat_comfort'] = fill_value"
   ]
  },
  {
   "cell_type": "code",
   "execution_count": 7,
   "id": "cd44611c-fad5-4804-bd8f-7dda4f194076",
   "metadata": {},
   "outputs": [
    {
     "data": {
      "text/plain": [
       "4319"
      ]
     },
     "execution_count": 7,
     "metadata": {},
     "output_type": "execute_result"
    }
   ],
   "source": [
    "df['seat_comfort'].isna().sum()"
   ]
  },
  {
   "cell_type": "code",
   "execution_count": 8,
   "id": "9f885d44-d547-4ac4-8fdd-7396e8beba1d",
   "metadata": {},
   "outputs": [],
   "source": [
    "# Generate mask of 380 random positions where NaN values occur\n",
    "mask = np.random.choice(df.index[df['seat_comfort'].isna()], size=1054, replace=True)\n",
    "\n",
    "# filling a constat value\n",
    "fill_value1 = 2.0\n",
    "df.loc[mask, 'seat_comfort'] = fill_value1"
   ]
  },
  {
   "cell_type": "code",
   "execution_count": 9,
   "id": "5ed1d1d7-8f5f-4bab-821f-05a09a279115",
   "metadata": {},
   "outputs": [
    {
     "data": {
      "text/plain": [
       "3389"
      ]
     },
     "execution_count": 9,
     "metadata": {},
     "output_type": "execute_result"
    }
   ],
   "source": [
    "df['seat_comfort'].isna().sum()"
   ]
  },
  {
   "cell_type": "code",
   "execution_count": 20,
   "id": "72c17776-3f90-4d89-b454-8c0ec4235bd9",
   "metadata": {},
   "outputs": [],
   "source": [
    "# Generate mask of 380 random positions where NaN values occur\n",
    "mask = np.random.choice(df.index[df['seat_comfort'].isna()], size=1054, replace=True)\n",
    "\n",
    "# filling a constat value\n",
    "fill_value2 = 3.0\n",
    "df.loc[mask, 'seat_comfort'] = fill_value2"
   ]
  },
  {
   "cell_type": "code",
   "execution_count": 11,
   "id": "cc0eb558-5532-411a-aeed-fee13df1f882",
   "metadata": {},
   "outputs": [
    {
     "data": {
      "text/plain": [
       "2468"
      ]
     },
     "execution_count": 11,
     "metadata": {},
     "output_type": "execute_result"
    }
   ],
   "source": [
    "df['seat_comfort'].isna().sum()"
   ]
  },
  {
   "cell_type": "code",
   "execution_count": 18,
   "id": "ed79945b-6839-4838-b952-3a740253619b",
   "metadata": {},
   "outputs": [],
   "source": [
    "# Generate mask of 380 random positions where NaN values occur\n",
    "mask = np.random.choice(df.index[df['seat_comfort'].isna()], size=1054, replace=True)\n",
    "\n",
    "# filling a constat value\n",
    "fill_value3 = 4.0\n",
    "df.loc[mask, 'seat_comfort'] = fill_value3"
   ]
  },
  {
   "cell_type": "code",
   "execution_count": 13,
   "id": "4ae16526-9bf0-445f-ae38-bd7757c3bfad",
   "metadata": {},
   "outputs": [
    {
     "data": {
      "text/plain": [
       "1604"
      ]
     },
     "execution_count": 13,
     "metadata": {},
     "output_type": "execute_result"
    }
   ],
   "source": [
    "df['seat_comfort'].isna().sum()"
   ]
  },
  {
   "cell_type": "code",
   "execution_count": 14,
   "id": "043177ee-9c0e-4bb6-a1db-f111cc2fe9b1",
   "metadata": {},
   "outputs": [],
   "source": [
    "# Generate mask of 380 random positions where NaN values occur\n",
    "mask = np.random.choice(df.index[df['seat_comfort'].isna()], size=1054, replace=True)\n",
    "\n",
    "# filling a constat value\n",
    "fill_value4 = 5.0\n",
    "df.loc[mask, 'seat_comfort'] = fill_value4"
   ]
  },
  {
   "cell_type": "code",
   "execution_count": 21,
   "id": "a07c633d-7076-4a17-a19f-8715ac5508d8",
   "metadata": {},
   "outputs": [
    {
     "data": {
      "text/plain": [
       "0"
      ]
     },
     "execution_count": 21,
     "metadata": {},
     "output_type": "execute_result"
    }
   ],
   "source": [
    "df['seat_comfort'].isna().sum()"
   ]
  },
  {
   "cell_type": "code",
   "execution_count": 22,
   "id": "68afe23b-3429-4a08-9ad8-f6768fa92577",
   "metadata": {},
   "outputs": [],
   "source": [
    "df.to_csv('Pro3.csv', index=False)"
   ]
  },
  {
   "cell_type": "code",
   "execution_count": null,
   "id": "2bb61a2d-211a-4703-95b7-e50d5b3cbae7",
   "metadata": {},
   "outputs": [],
   "source": []
  }
 ],
 "metadata": {
  "kernelspec": {
   "display_name": "Python 3 (ipykernel)",
   "language": "python",
   "name": "python3"
  },
  "language_info": {
   "codemirror_mode": {
    "name": "ipython",
    "version": 3
   },
   "file_extension": ".py",
   "mimetype": "text/x-python",
   "name": "python",
   "nbconvert_exporter": "python",
   "pygments_lexer": "ipython3",
   "version": "3.10.12"
  }
 },
 "nbformat": 4,
 "nbformat_minor": 5
}
